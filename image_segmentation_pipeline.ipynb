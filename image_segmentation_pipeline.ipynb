{
  "nbformat": 4,
  "nbformat_minor": 0,
  "metadata": {
    "colab": {
      "name": "image_segmentation_pipeline.ipynb",
      "provenance": [],
      "authorship_tag": "ABX9TyMPcggQssHAdabegZ8N4a66",
      "include_colab_link": true
    },
    "kernelspec": {
      "name": "python3",
      "display_name": "Python 3"
    },
    "language_info": {
      "name": "python"
    }
  },
  "cells": [
    {
      "cell_type": "markdown",
      "metadata": {
        "id": "view-in-github",
        "colab_type": "text"
      },
      "source": [
        "<a href=\"https://colab.research.google.com/github/ShakilAhmedSumon/AI-City-Challenge/blob/main/image_segmentation_pipeline.ipynb\" target=\"_parent\"><img src=\"https://colab.research.google.com/assets/colab-badge.svg\" alt=\"Open In Colab\"/></a>"
      ]
    },
    {
      "cell_type": "markdown",
      "source": [
        "# Downloading dummy data; as I can not access Ai city Challenge folder. \n",
        "\n",
        "### Referring to this link for better understanding: https://keras.io/examples/vision/oxford_pets_image_segmentation/"
      ],
      "metadata": {
        "id": "__Zz0xz3fi-t"
      }
    },
    {
      "cell_type": "code",
      "source": [
        "!curl -O https://www.robots.ox.ac.uk/~vgg/data/pets/data/images.tar.gz\n",
        "!curl -O https://www.robots.ox.ac.uk/~vgg/data/pets/data/annotations.tar.gz\n",
        "!tar -xf images.tar.gz\n",
        "!tar -xf annotations.tar.gz"
      ],
      "metadata": {
        "colab": {
          "base_uri": "https://localhost:8080/"
        },
        "id": "mZpN8vNhfnGs",
        "outputId": "fc2fdfc2-99ff-47c9-8088-ee7ec25fb3b3"
      },
      "execution_count": 1,
      "outputs": [
        {
          "output_type": "stream",
          "name": "stdout",
          "text": [
            "  % Total    % Received % Xferd  Average Speed   Time    Time     Time  Current\n",
            "                                 Dload  Upload   Total   Spent    Left  Speed\n",
            "100  755M  100  755M    0     0  29.3M      0  0:00:25  0:00:25 --:--:-- 30.6M\n",
            "  % Total    % Received % Xferd  Average Speed   Time    Time     Time  Current\n",
            "                                 Dload  Upload   Total   Spent    Left  Speed\n",
            "100 18.2M  100 18.2M    0     0   880k      0  0:00:21  0:00:21 --:--:-- 5201k\n"
          ]
        }
      ]
    },
    {
      "cell_type": "code",
      "source": [
        ""
      ],
      "metadata": {
        "id": "gTlQVQs_f3mB"
      },
      "execution_count": null,
      "outputs": []
    },
    {
      "cell_type": "markdown",
      "source": [
        "## Importing necessary libraries"
      ],
      "metadata": {
        "id": "3B1qOykOgPoZ"
      }
    },
    {
      "cell_type": "code",
      "source": [
        "import os\n",
        "from IPython.display import Image, display\n",
        "from tensorflow.keras.preprocessing.image import load_img\n",
        "import PIL\n",
        "from PIL import ImageOps\n",
        "from tensorflow import keras\n",
        "import numpy as np\n",
        "from tensorflow.keras.preprocessing.image import load_img\n",
        "from tensorflow.keras import layers\n",
        "import random\n"
      ],
      "metadata": {
        "id": "4PCehCG5gS7B"
      },
      "execution_count": 2,
      "outputs": []
    },
    {
      "cell_type": "code",
      "source": [
        ""
      ],
      "metadata": {
        "id": "ZglOHbingokf"
      },
      "execution_count": null,
      "outputs": []
    },
    {
      "cell_type": "markdown",
      "source": [
        "## Data pipeline for images and their corresponsing masks provided in the AI City Dataset. Please put the appropriate path for the dataset."
      ],
      "metadata": {
        "id": "c3QPqgJ7gyMx"
      }
    },
    {
      "cell_type": "code",
      "source": [
        "input_dir = \"images/\"                   # Please provide the path of our dataset\n",
        "target_dir = \"annotations/trimaps/\"     # Please provide the path of our respective annotations\n",
        "img_size = (160, 160)                   # What was the dimension of AI City Challnege Data?\n",
        "num_classes = 3                         # 116 classes for Ai City challenge track 4 \n",
        "batch_size = 32                         # We should increase it as the dimensions seems to be small\n",
        "\n",
        "input_img_paths = sorted(\n",
        "    [\n",
        "        os.path.join(input_dir, fname)\n",
        "        for fname in os.listdir(input_dir)\n",
        "        if fname.endswith(\".jpg\")\n",
        "    ]\n",
        ")\n",
        "target_img_paths = sorted(\n",
        "    [\n",
        "        os.path.join(target_dir, fname)\n",
        "        for fname in os.listdir(target_dir)\n",
        "        if fname.endswith(\".png\") and not fname.startswith(\".\")    # AI City Challenge annotations are JPG or PNG?\n",
        "    ]\n",
        ")\n",
        "\n",
        "print(\"Number of samples:\", len(input_img_paths))\n",
        "\n",
        "for input_path, target_path in zip(input_img_paths[:10], target_img_paths[:10]):\n",
        "    print(input_path, \"|\", target_path)"
      ],
      "metadata": {
        "colab": {
          "base_uri": "https://localhost:8080/"
        },
        "id": "8joAD3p0g9ix",
        "outputId": "b6253ea5-f4ca-4407-9c67-154df8af7ed3"
      },
      "execution_count": 4,
      "outputs": [
        {
          "output_type": "stream",
          "name": "stdout",
          "text": [
            "Number of samples: 7390\n",
            "images/Abyssinian_1.jpg | annotations/trimaps/Abyssinian_1.png\n",
            "images/Abyssinian_10.jpg | annotations/trimaps/Abyssinian_10.png\n",
            "images/Abyssinian_100.jpg | annotations/trimaps/Abyssinian_100.png\n",
            "images/Abyssinian_101.jpg | annotations/trimaps/Abyssinian_101.png\n",
            "images/Abyssinian_102.jpg | annotations/trimaps/Abyssinian_102.png\n",
            "images/Abyssinian_103.jpg | annotations/trimaps/Abyssinian_103.png\n",
            "images/Abyssinian_104.jpg | annotations/trimaps/Abyssinian_104.png\n",
            "images/Abyssinian_105.jpg | annotations/trimaps/Abyssinian_105.png\n",
            "images/Abyssinian_106.jpg | annotations/trimaps/Abyssinian_106.png\n",
            "images/Abyssinian_107.jpg | annotations/trimaps/Abyssinian_107.png\n"
          ]
        }
      ]
    },
    {
      "cell_type": "code",
      "source": [
        ""
      ],
      "metadata": {
        "id": "pmTp3us4hBja"
      },
      "execution_count": null,
      "outputs": []
    }
  ]
}